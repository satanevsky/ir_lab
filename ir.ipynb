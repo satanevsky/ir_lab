{
 "cells": [
  {
   "cell_type": "code",
   "execution_count": 1,
   "metadata": {},
   "outputs": [],
   "source": [
    "from collections import namedtuple"
   ]
  },
  {
   "cell_type": "markdown",
   "metadata": {},
   "source": [
    "Определим основные сущности. Article - данный документ из коллекции. Document - документ с выделенным текстом для индексирования. Query - запрос."
   ]
  },
  {
   "cell_type": "code",
   "execution_count": 2,
   "metadata": {},
   "outputs": [],
   "source": [
    "Article = namedtuple('Article', ['id', 'title', 'authors', 'info', 'abstract'])\n",
    "Query = namedtuple('Query', ['id', 'query_string'])\n",
    "Document = namedtuple('Document', ['id', 'text'])"
   ]
  },
  {
   "cell_type": "markdown",
   "metadata": {},
   "source": [
    "Считываем статьи. В некоторых документах виделись аномалии, поведение в этих редких ситуациях захардродим руками."
   ]
  },
  {
   "cell_type": "code",
   "execution_count": 3,
   "metadata": {},
   "outputs": [],
   "source": [
    "DOCS_COUNT = 1400"
   ]
  },
  {
   "cell_type": "code",
   "execution_count": 4,
   "metadata": {},
   "outputs": [],
   "source": [
    "articles = list()\n",
    "with open('data/cran.all.1400') as f:\n",
    "    raw_text = f.read()\n",
    "documents_data = raw_text.split('.I')[1:]\n",
    "assert len(documents_data) == DOCS_COUNT\n",
    "for (i, doc_data) in enumerate(documents_data):\n",
    "    (doc_id, doc_data) = doc_data.split('.T')\n",
    "    doc_id = int(doc_id.strip())\n",
    "    if doc_id != 240:\n",
    "        (title, doc_data) = doc_data.split('.A')\n",
    "    else:\n",
    "        (title, doc_data, _) = doc_data.split('.A')\n",
    "    title = title.strip()\n",
    "    (authors, doc_data) = doc_data.split('.B')\n",
    "    authors = authors.strip()\n",
    "    if doc_id not in (576, 578):\n",
    "        (info, abstract) = doc_data.split('.W')\n",
    "    else:\n",
    "        (info, abstract, _) = doc_data.split('.W')\n",
    "    info = info.strip()\n",
    "    info = abstract.strip()\n",
    "    articles.append(Article(\n",
    "        id=doc_id,\n",
    "        title=title,\n",
    "        authors=authors,\n",
    "        info=info,\n",
    "        abstract=abstract,\n",
    "    ))"
   ]
  },
  {
   "cell_type": "markdown",
   "metadata": {},
   "source": [
    "Считываем запросы."
   ]
  },
  {
   "cell_type": "code",
   "execution_count": 5,
   "metadata": {},
   "outputs": [],
   "source": [
    "queries = list()\n",
    "\n",
    "with open('data/cran.qry') as f:\n",
    "    raw_text = f.read()\n",
    "queries_data = raw_text.split('.I')[1:]\n",
    "for (i, query_data) in enumerate(queries_data):\n",
    "    query_data_splitted = query_data.split('.W')\n",
    "    assert len(query_data_splitted) == 2\n",
    "    queries.append(Query(id=i+1, query_string=query_data_splitted[1]))"
   ]
  },
  {
   "cell_type": "markdown",
   "metadata": {},
   "source": [
    "Собственно, реализация поискового движка. У нас он строит индекс, используя tokenizer для пропроцессинга, ищет в нем, генерируя наборы признаков. Далее, основываясь на скоринге предоставляемом scorer-ом, делает ранжирование."
   ]
  },
  {
   "cell_type": "code",
   "execution_count": 6,
   "metadata": {},
   "outputs": [],
   "source": [
    "from collections import defaultdict\n",
    "from collections import namedtuple\n",
    "from itertools import chain\n",
    "\n",
    "Features = namedtuple('Features', ['query_token_count', 'doc_token_count', 'token_df',\n",
    "                                   'all_docs', 'doc_length', 'doc_length_avg',\n",
    "                                   'relevant_documents_count', 'relevant_documents_with_token_count'])\n",
    "\n",
    "def get_counts_dict(sequence):\n",
    "    result = defaultdict(int)\n",
    "    for el in sequence:\n",
    "        result[el] += 1\n",
    "    return result\n",
    "\n",
    "\n",
    "class Search(object):\n",
    "    def __init__(self, documents, tokenizer, scorer):\n",
    "        self._tokenizer = tokenizer\n",
    "        self._scorer = scorer\n",
    "        self._documents = documents\n",
    "        self._doc_length = dict()\n",
    "        self._inverted_index = defaultdict(list)\n",
    "        self._build_invert_index(documents)\n",
    "        self._doc_length_avg = sum(self._doc_length.values()) / len(self._doc_length)\n",
    "\n",
    "    def reset_scorer(self, scorer):\n",
    "        self._scorer = scorer\n",
    "\n",
    "    def _build_invert_index(self, documents):\n",
    "        documents = sorted(documents, key=lambda x: x.id)\n",
    "        for doc in documents:\n",
    "            doc_tokens = self._tokenizer(doc.text)\n",
    "            self._doc_length[doc.id] = len(doc_tokens)\n",
    "            token_counts = get_counts_dict(doc_tokens)\n",
    "            for token, count in token_counts.items():\n",
    "                self._inverted_index[token].append((doc.id, count))\n",
    "\n",
    "    def get_inverted_index(self):\n",
    "        return self._inverted_index\n",
    "\n",
    "    def search(self, query):\n",
    "        query_tokens_counts = get_counts_dict(self._tokenizer(query))\n",
    "        tokens_by_doc = defaultdict(list)\n",
    "        relevant_documents_count = len(set(chain.from_iterable([el[0] for el in self._inverted_index.get(token, list())] for token in query_tokens_counts)))\n",
    "        for token, token_count in query_tokens_counts.items():\n",
    "            token_docs = self._inverted_index.get(token, list())\n",
    "            for doc_id, doc_token_count in token_docs:\n",
    "                tokens_by_doc[doc_id].append(Features(\n",
    "                    query_token_count=token_count,\n",
    "                    doc_token_count=doc_token_count,\n",
    "                    token_df=len(token_docs),\n",
    "                    all_docs=len(self._documents),\n",
    "                    doc_length=self._doc_length[doc_id],\n",
    "                    doc_length_avg=self._doc_length_avg,\n",
    "                    relevant_documents_count=relevant_documents_count,\n",
    "                    relevant_documents_with_token_count=len(token_docs),\n",
    "                ))\n",
    "        docs_scores = [(doc_id, self._scorer(doc_info)) for doc_id, doc_info in tokens_by_doc.items()]\n",
    "        return [doc_id for doc_id, doc_score in sorted(docs_scores, key=lambda doc_id_score: doc_id_score[1], reverse=True)]"
   ]
  },
  {
   "cell_type": "markdown",
   "metadata": {},
   "source": [
    "Собственно, реализация tokenizer-а и scorer-a. Токенайзер делает стемминг и удаление стопслов на основе nltk. Scorer вычисляет релевантность. В данной реализации мы предусмотрели альтернативную формулу для idf, дополнительный множитель для частот слов в запросе, а также возможность нормирования на сумму idf."
   ]
  },
  {
   "cell_type": "code",
   "execution_count": 7,
   "metadata": {},
   "outputs": [],
   "source": [
    "import string\n",
    "import nltk\n",
    "import random\n",
    "import math\n",
    "\n",
    "STOPWORDS = set(nltk.corpus.stopwords.words('english') + list(string.punctuation))\n",
    "\n",
    "STEMMER = nltk.stem.porter.PorterStemmer()\n",
    "\n",
    "class Tokenizer(object):\n",
    "    def __call__(self, text):\n",
    "        text = text.strip().replace('\\n', ' ')\n",
    "        tokens = [el.lower() for el in nltk.word_tokenize(text)]\n",
    "        tokens = [STEMMER.stem(el) for el in tokens if el not in STOPWORDS]\n",
    "        return tokens\n",
    "\n",
    "class Scorer(object):\n",
    "    def __init__(self, k1, k2, b, idf_is_bm25, norm_idf):\n",
    "        self._k1 = k1\n",
    "        self._k2 = k2\n",
    "        self._b = b\n",
    "        self._idf_is_bm25 = idf_is_bm25\n",
    "        self._norm_idf = norm_idf\n",
    "\n",
    "    def _idf_bm25(self, docs_count, token_docs_count):\n",
    "        return math.log((docs_count - token_docs_count + 0.5) / (token_docs_count + 0.5))\n",
    "\n",
    "    def _idf_with_relevant_docs(self, docs_count, token_docs_count, relevant_docs_count, relevant_docs_with_token_count):\n",
    "        return math.log((relevant_docs_with_token_count + 0.5) / (relevant_docs_count - relevant_docs_with_token_count + 0.5) / (token_docs_count - relevant_docs_with_token_count + 0.5) * (docs_count - token_docs_count - relevant_docs_count + relevant_docs_with_token_count + 0.5))\n",
    "\n",
    "    def _idf(self, features):\n",
    "        if self._idf_is_bm25:\n",
    "            return self._idf_bm25(docs_count=features.all_docs, token_docs_count=features.token_df)\n",
    "        else:\n",
    "            return self._idf_with_relevant_docs(\n",
    "                docs_count=features.all_docs,\n",
    "                token_docs_count=features.token_df,\n",
    "                relevant_docs_count=features.relevant_documents_count,\n",
    "                relevant_docs_with_token_count=features.relevant_documents_with_token_count,\n",
    "            )\n",
    "\n",
    "    def _token_score(self, features):\n",
    "        return features.query_token_count * features.doc_token_count * (self._k1 + 1) / (features.doc_token_count + self._k1 * (1 - self._b + self._b * features.doc_length / features.doc_length_avg))\n",
    "\n",
    "    def __call__(self, doc_data):\n",
    "        ans = 0.0\n",
    "        idf_sum = 0.0\n",
    "        for features in doc_data:\n",
    "            idf = self._idf(features)\n",
    "            idf_sum += idf\n",
    "            ans += idf * features.doc_token_count * (self._k1 + 1) / (features.doc_token_count + self._k1 * (1 - self._b + self._b * features.doc_length / features.doc_length_avg)) * (self._k2 + 1) * features.query_token_count / (self._k2 + features.query_token_count)\n",
    "        if self._norm_idf:\n",
    "            ans /= idf_sum\n",
    "        return ans"
   ]
  },
  {
   "cell_type": "markdown",
   "metadata": {},
   "source": [
    "Собственно, сущность, проверяющая качество движка. Основана на eval.py с той разницей, что возвращает метрики как объект и встроено в код. Также evaluator делает запросы в поисковый движок и отрезает выдочу до 10 элементов, чтобы сгенерировать пары запрос-документ."
   ]
  },
  {
   "cell_type": "code",
   "execution_count": 8,
   "metadata": {},
   "outputs": [],
   "source": [
    "import numpy as np\n",
    "\n",
    "\n",
    "Metrics = namedtuple('Metrics', ['precision', 'recall', 'f_measure', 'MAP'])\n",
    "\n",
    "\n",
    "class Evaluator(object):\n",
    "    def __init__(self, answer_pairs_path, possible_queries):\n",
    "        self._possible_queries = possible_queries\n",
    "        self._true_pairs = list()\n",
    "        with open(answer_pairs_path) as f:\n",
    "            for line in f:\n",
    "                qid, did = [int(x) for x in line.split()]\n",
    "                self._true_pairs.append((qid, did))\n",
    "\n",
    "    def _eval_predicted_pairs(self, predicted_pairs):\n",
    "        q2reld = {}\n",
    "        for qid, did in self._true_pairs:\n",
    "            if qid in q2reld.keys():\n",
    "                q2reld[qid].add(did)\n",
    "            else:\n",
    "                q2reld[qid] = set()\n",
    "\n",
    "        q2retrd = {}\n",
    "        for qid, did in predicted_pairs:\n",
    "            if qid in q2retrd.keys():\n",
    "                q2retrd[qid].append(did)\n",
    "            else:\n",
    "                q2retrd[qid] = []       \n",
    "\n",
    "        N = len(q2retrd.keys())\n",
    "        precision = sum([len(q2reld[q].intersection(q2retrd[q]))*1.0/len(q2retrd[q]) for q in q2retrd.keys()]) / N\n",
    "        recall = sum([len(q2reld[q].intersection(q2retrd[q]))*1.0/len(q2reld[q]) for q in q2retrd.keys()]) / N\n",
    "        f_measure = 2*precision*recall/(precision+recall)\n",
    "\n",
    "        # MAP@10\n",
    "\n",
    "        MAP = 0.0\n",
    "        for q in q2retrd.keys():\n",
    "            n_results = min(10, len(q2retrd[q]))\n",
    "            avep = np.zeros(n_results)\n",
    "            for i in range(n_results):\n",
    "                avep[i:] += q2retrd[q][i] in q2reld[q]\n",
    "                avep[i] *= (q2retrd[q][i] in q2reld[q]) / (i+1.0)\n",
    "            MAP += sum(avep) / min(n_results, len(q2reld[q]))\n",
    "        return Metrics(\n",
    "            precision=precision,\n",
    "            recall=recall,\n",
    "            f_measure=f_measure,\n",
    "            MAP=MAP/N,\n",
    "        )\n",
    "\n",
    "    def __call__(self, engine):\n",
    "        query_result_pairs = list()\n",
    "        for query in self._possible_queries:\n",
    "            found_docs = engine.search(query.query_string)\n",
    "            for doc_id in found_docs[:10]:\n",
    "                query_result_pairs.append((query.id, doc_id))\n",
    "        return self._eval_predicted_pairs(predicted_pairs=query_result_pairs)"
   ]
  },
  {
   "cell_type": "code",
   "execution_count": 9,
   "metadata": {},
   "outputs": [],
   "source": [
    "evaluator = Evaluator(answer_pairs_path='data/qrel_clean', possible_queries=queries)"
   ]
  },
  {
   "cell_type": "code",
   "execution_count": 10,
   "metadata": {},
   "outputs": [],
   "source": [
    "Params = namedtuple('Params', ['use_article', 'use_abstract', 'k1', 'k2', 'b', 'idf_is_bm25', 'norm_idf'])"
   ]
  },
  {
   "cell_type": "markdown",
   "metadata": {},
   "source": [
    "Здесь у нас grid search разных параметров: use_article - использовать ли заголовок, use_abstract - использовать ли текст, k1, k2 (по логарифмической сетке), b, idf_is_bm25 - переключение между разными вариантами вычисления idf, norm_idf - нужно ли нормировать idf. Комбинаций параметров получилось достаточно много, поэтому используем следующие оптимизации:\n",
    "        1) Разделели построение индекса и выполнение запросов. Так как на индекс влияют только первые два параметра, то вынесли их в начало и строим индекс только когда они изменяются. При этом скоринговую функицю устанавливаем только в момент определения остальных параметров.\n",
    "        2) Делаем перебор в много процессов."
   ]
  },
  {
   "cell_type": "code",
   "execution_count": null,
   "metadata": {},
   "outputs": [],
   "source": [
    "import time\n",
    "import sys\n",
    "import pickle\n",
    "import traceback\n",
    "from concurrent.futures import ProcessPoolExecutor\n",
    "\n",
    "\n",
    "def eval_search(evaluator, search, scorer):\n",
    "    search.reset_scorer(scorer)\n",
    "    return evaluator(search)\n",
    "\n",
    "stdout = sys.stdout\n",
    "sys.stdout = open('log', 'w')\n",
    "\n",
    "trial_results = list()\n",
    "start_time = time.time()\n",
    "try:\n",
    "    trial = 0\n",
    "    for use_article, use_abstract in [(True, False), (False, True), (True, True)]:\n",
    "            search = Search(\n",
    "                documents=[\n",
    "                    Document(\n",
    "                        id=article.id, \n",
    "                        text=((article.title + ' ') if use_article else \"\") + \n",
    "                            (article.abstract if use_abstract else \"\")\n",
    "                    ) for article in articles],\n",
    "                tokenizer=Tokenizer(),\n",
    "                scorer=None,\n",
    "            )\n",
    "\n",
    "            with ProcessPoolExecutor(max_workers=32) as e:\n",
    "                futures = list()\n",
    "                for k1 in [el / 10 for el in range(12, 21)]:\n",
    "                    for k2 in [0] + [3 ** i for i in range(7)]:\n",
    "                        for b in [el / 20 for el in range(21)]:\n",
    "                            for idf_is_bm25 in [False, True]:\n",
    "                                for norm_idf in [False, True]:\n",
    "                                    trial += 1\n",
    "\n",
    "                                    print(trial, time.time() - start_time, end=\", \")\n",
    "                                    sys.stdout.flush()\n",
    "                                    future = e.submit(\n",
    "                                        eval_search,\n",
    "                                        evaluator=evaluator,\n",
    "                                        search=search,\n",
    "                                        scorer=Scorer(k1=k1, k2=k2, b=b, idf_is_bm25=idf_is_bm25, norm_idf=norm_idf),\n",
    "                                    )\n",
    "                                    futures.append((\n",
    "                                        Params(\n",
    "                                            use_article=use_article,\n",
    "                                            use_abstract=use_abstract,\n",
    "                                            k1=k1, k2=k2, b=b,\n",
    "                                            idf_is_bm25=idf_is_bm25,\n",
    "                                            norm_idf=norm_idf,\n",
    "                                        ),\n",
    "                                        future,\n",
    "                                    ))\n",
    "\n",
    "                trial_results.extend([(el[0], el[1].result()) for el in futures])\n",
    "except:\n",
    "    print(traceback.format_exc())\n",
    "finally:\n",
    "    sys.stdout = stdout\n",
    "\n",
    "with open(\"trial_results.pkl\", \"wb\") as f:\n",
    "    pickle.dump(trial_results, f)"
   ]
  },
  {
   "cell_type": "code",
   "execution_count": 13,
   "metadata": {},
   "outputs": [],
   "source": [
    "inverted_index = Search(\n",
    "    documents=[\n",
    "        Document(\n",
    "            id=article.id, \n",
    "            text=article.abstract,\n",
    "        ) for article in articles],\n",
    "    tokenizer=Tokenizer(),\n",
    "    scorer=None,\n",
    ").get_inverted_index()"
   ]
  },
  {
   "cell_type": "markdown",
   "metadata": {},
   "source": [
    "Посчитаем статистики по инвертированному индексу"
   ]
  },
  {
   "cell_type": "code",
   "execution_count": 14,
   "metadata": {},
   "outputs": [
    {
     "name": "stdout",
     "output_type": "stream",
     "text": [
      "dictionary size: 7004\n",
      "min docs for token: 1\n",
      "max docs for token: 713\n",
      "average docs for token: 12.334094802969732\n"
     ]
    }
   ],
   "source": [
    "print(\"dictionary size:\", len(inverted_index))\n",
    "print(\"min docs for token:\", min(len(el) for el in inverted_index.values()))\n",
    "print(\"max docs for token:\", max(len(el) for el in inverted_index.values()))\n",
    "print(\"average docs for token:\", sum(len(el) for el in inverted_index.values()) / len(inverted_index))"
   ]
  },
  {
   "cell_type": "code",
   "execution_count": 15,
   "metadata": {},
   "outputs": [
    {
     "data": {
      "text/plain": [
       "(array([  3.62000000e+03,   8.77000000e+02,   3.70000000e+02,\n",
       "          2.47000000e+02,   1.89000000e+02,   1.19000000e+02,\n",
       "          1.29000000e+02,   9.80000000e+01,   8.10000000e+01,\n",
       "          7.40000000e+01,   4.80000000e+01,   6.60000000e+01,\n",
       "          4.30000000e+01,   3.60000000e+01,   3.70000000e+01,\n",
       "          4.90000000e+01,   3.20000000e+01,   3.10000000e+01,\n",
       "          2.80000000e+01,   3.00000000e+01,   2.80000000e+01,\n",
       "          2.00000000e+01,   2.60000000e+01,   1.30000000e+01,\n",
       "          2.60000000e+01,   2.10000000e+01,   1.10000000e+01,\n",
       "          1.60000000e+01,   1.80000000e+01,   1.50000000e+01,\n",
       "          1.60000000e+01,   9.00000000e+00,   1.00000000e+01,\n",
       "          1.30000000e+01,   1.20000000e+01,   1.70000000e+01,\n",
       "          8.00000000e+00,   8.00000000e+00,   1.60000000e+01,\n",
       "          1.60000000e+01,   1.70000000e+01,   6.00000000e+00,\n",
       "          5.00000000e+00,   1.00000000e+01,   7.00000000e+00,\n",
       "          7.00000000e+00,   4.00000000e+00,   6.00000000e+00,\n",
       "          8.00000000e+00,   0.00000000e+00,   5.00000000e+00,\n",
       "          4.00000000e+00,   6.00000000e+00,   5.00000000e+00,\n",
       "          4.00000000e+00,   5.00000000e+00,   1.10000000e+01,\n",
       "          4.00000000e+00,   2.00000000e+00,   8.00000000e+00,\n",
       "          6.00000000e+00,   3.00000000e+00,   5.00000000e+00,\n",
       "          6.00000000e+00,   5.00000000e+00,   5.00000000e+00,\n",
       "          5.00000000e+00,   2.00000000e+00,   9.00000000e+00,\n",
       "          2.00000000e+00,   5.00000000e+00,   1.00000000e+00,\n",
       "          4.00000000e+00,   5.00000000e+00,   4.00000000e+00,\n",
       "          9.00000000e+00,   7.00000000e+00,   4.00000000e+00,\n",
       "          4.00000000e+00,   4.00000000e+00,   2.00000000e+00,\n",
       "          9.00000000e+00,   4.00000000e+00,   1.00000000e+00,\n",
       "          3.00000000e+00,   5.00000000e+00,   1.00000000e+00,\n",
       "          3.00000000e+00,   2.00000000e+00,   4.00000000e+00,\n",
       "          1.00000000e+00,   3.00000000e+00,   2.00000000e+00,\n",
       "          2.00000000e+00,   1.00000000e+00,   1.00000000e+00,\n",
       "          3.00000000e+00,   3.00000000e+00,   1.00000000e+00,\n",
       "          2.00000000e+00]),\n",
       " array([  1.  ,   1.98,   2.96,   3.94,   4.92,   5.9 ,   6.88,   7.86,\n",
       "          8.84,   9.82,  10.8 ,  11.78,  12.76,  13.74,  14.72,  15.7 ,\n",
       "         16.68,  17.66,  18.64,  19.62,  20.6 ,  21.58,  22.56,  23.54,\n",
       "         24.52,  25.5 ,  26.48,  27.46,  28.44,  29.42,  30.4 ,  31.38,\n",
       "         32.36,  33.34,  34.32,  35.3 ,  36.28,  37.26,  38.24,  39.22,\n",
       "         40.2 ,  41.18,  42.16,  43.14,  44.12,  45.1 ,  46.08,  47.06,\n",
       "         48.04,  49.02,  50.  ,  50.98,  51.96,  52.94,  53.92,  54.9 ,\n",
       "         55.88,  56.86,  57.84,  58.82,  59.8 ,  60.78,  61.76,  62.74,\n",
       "         63.72,  64.7 ,  65.68,  66.66,  67.64,  68.62,  69.6 ,  70.58,\n",
       "         71.56,  72.54,  73.52,  74.5 ,  75.48,  76.46,  77.44,  78.42,\n",
       "         79.4 ,  80.38,  81.36,  82.34,  83.32,  84.3 ,  85.28,  86.26,\n",
       "         87.24,  88.22,  89.2 ,  90.18,  91.16,  92.14,  93.12,  94.1 ,\n",
       "         95.08,  96.06,  97.04,  98.02,  99.  ]),\n",
       " <a list of 100 Patch objects>)"
      ]
     },
     "execution_count": 15,
     "metadata": {},
     "output_type": "execute_result"
    },
    {
     "data": {
      "image/png": "[encoded data removed]",
      "text/plain": [
       "<matplotlib.figure.Figure at 0x7f6adfc57c50>"
      ]
     },
     "metadata": {},
     "output_type": "display_data"
    }
   ],
   "source": [
    "import matplotlib.pyplot as plt\n",
    "%matplotlib inline\n",
    "plt.hist([len(el) for el in inverted_index.values() if len(el) < 100], bins=100)"
   ]
  },
  {
   "cell_type": "markdown",
   "metadata": {},
   "source": [
    "По графику видно, что многие слова встречаются всего раз. Это говорит о том, что неплохо бы более агрессивно нормализовать слова: например, кластеризовать синонимы."
   ]
  },
  {
   "cell_type": "code",
   "execution_count": 16,
   "metadata": {},
   "outputs": [],
   "source": [
    "import pickle\n",
    "with open(\"trial_results.pkl\", \"rb\") as f:\n",
    "    trial_results = pickle.load(f)"
   ]
  },
  {
   "cell_type": "markdown",
   "metadata": {},
   "source": [
    "Построим гистограмму значений MAP для наших экспериментов. Видно, что есть много очень плохих результатов, а наилучшие результаты достагнуты в районе 0.22"
   ]
  },
  {
   "cell_type": "code",
   "execution_count": 18,
   "metadata": {},
   "outputs": [
    {
     "data": {
      "text/plain": [
       "(array([  1.75600000e+03,   2.74100000e+03,   1.55600000e+03,\n",
       "          1.06500000e+03,   1.78900000e+03,   1.65000000e+02,\n",
       "          0.00000000e+00,   0.00000000e+00,   0.00000000e+00,\n",
       "          0.00000000e+00,   0.00000000e+00,   0.00000000e+00,\n",
       "          0.00000000e+00,   0.00000000e+00,   0.00000000e+00,\n",
       "          0.00000000e+00,   0.00000000e+00,   0.00000000e+00,\n",
       "          0.00000000e+00,   0.00000000e+00,   0.00000000e+00,\n",
       "          3.00000000e+00,   4.20000000e+01,   1.52000000e+02,\n",
       "          2.08000000e+02,   2.69000000e+02,   2.31000000e+02,\n",
       "          4.55000000e+02,   4.08000000e+02,   8.33000000e+02,\n",
       "          1.37100000e+03,   5.39000000e+02,   1.15000000e+02,\n",
       "          1.34000000e+02,   1.79000000e+02,   4.67000000e+02,\n",
       "          2.92000000e+02,   2.62000000e+02,   8.80000000e+01,\n",
       "          1.00000000e+00,   2.40000000e+01,   3.80000000e+01,\n",
       "          9.70000000e+01,   1.62000000e+02,   5.89000000e+02,\n",
       "          6.18000000e+02,   4.29000000e+02,   3.91000000e+02,\n",
       "          5.09000000e+02,   1.66000000e+02]),\n",
       " array([ 0.00483014,  0.00909331,  0.01335648,  0.01761965,  0.02188283,\n",
       "         0.026146  ,  0.03040917,  0.03467234,  0.03893551,  0.04319869,\n",
       "         0.04746186,  0.05172503,  0.0559882 ,  0.06025137,  0.06451454,\n",
       "         0.06877772,  0.07304089,  0.07730406,  0.08156723,  0.0858304 ,\n",
       "         0.09009357,  0.09435675,  0.09861992,  0.10288309,  0.10714626,\n",
       "         0.11140943,  0.11567261,  0.11993578,  0.12419895,  0.12846212,\n",
       "         0.13272529,  0.13698846,  0.14125164,  0.14551481,  0.14977798,\n",
       "         0.15404115,  0.15830432,  0.1625675 ,  0.16683067,  0.17109384,\n",
       "         0.17535701,  0.17962018,  0.18388335,  0.18814653,  0.1924097 ,\n",
       "         0.19667287,  0.20093604,  0.20519921,  0.20946239,  0.21372556,\n",
       "         0.21798873]),\n",
       " <a list of 50 Patch objects>)"
      ]
     },
     "execution_count": 18,
     "metadata": {},
     "output_type": "execute_result"
    },
    {
     "data": {
      "image/png": "[encoded data removed]",
      "text/plain": [
       "<matplotlib.figure.Figure at 0x7f6a9e81ac18>"
      ]
     },
     "metadata": {},
     "output_type": "display_data"
    }
   ],
   "source": [
    "plt.hist([el[1].MAP for el in trial_results], bins=50)"
   ]
  },
  {
   "cell_type": "markdown",
   "metadata": {},
   "source": [
    "Посмотрим, где достиглось наилучшее MAP. Видно, что для этого лучше всего использовать и название и текст статьи, k1=1.5, k2=1, b=0.7, а также надо испольовать обычный bm25 без нормализации на сумму idf."
   ]
  },
  {
   "cell_type": "code",
   "execution_count": 19,
   "metadata": {},
   "outputs": [
    {
     "data": {
      "text/plain": [
       "(0.21798872861901972,\n",
       " [Params(use_article=True, use_abstract=True, k1=1.5, k2=1, b=0.7, idf_is_bm25=True, norm_idf=False)])"
      ]
     },
     "execution_count": 19,
     "metadata": {},
     "output_type": "execute_result"
    }
   ],
   "source": [
    "max_MAP = max(el[1].MAP for el in trial_results)\n",
    "max_MAP, [el[0] for el in trial_results if el[1].MAP == max_MAP]"
   ]
  },
  {
   "cell_type": "markdown",
   "metadata": {},
   "source": [
    "Посмотрим, где достигается максимальная точность. Видно, что во всех случаях используется и название и текст, а также b достаточно большое, то есть важно учитывать длину документа, также k1 = 1.7, b=0.5, k2 при этом более менее произвольный"
   ]
  },
  {
   "cell_type": "code",
   "execution_count": 21,
   "metadata": {},
   "outputs": [
    {
     "data": {
      "text/plain": [
       "(0.217283950617284,\n",
       " [Params(use_article=True, use_abstract=True, k1=1.7, k2=9, b=0.5, idf_is_bm25=True, norm_idf=False),\n",
       "  Params(use_article=True, use_abstract=True, k1=1.7, k2=81, b=0.5, idf_is_bm25=True, norm_idf=False),\n",
       "  Params(use_article=True, use_abstract=True, k1=1.7, k2=243, b=0.5, idf_is_bm25=True, norm_idf=False),\n",
       "  Params(use_article=True, use_abstract=True, k1=1.7, k2=729, b=0.5, idf_is_bm25=True, norm_idf=False)])"
      ]
     },
     "execution_count": 21,
     "metadata": {},
     "output_type": "execute_result"
    }
   ],
   "source": [
    "max_precision = max(el[1].precision for el in trial_results)\n",
    "max_precision, [el[0] for el in trial_results if el[1].precision == max_precision]"
   ]
  },
  {
   "cell_type": "markdown",
   "metadata": {},
   "source": [
    "Видно, что максимальная полнота достигается при k1=1.6, k2=3, b=0.95, используется и текст и название документа."
   ]
  },
  {
   "cell_type": "code",
   "execution_count": 23,
   "metadata": {},
   "outputs": [
    {
     "data": {
      "text/plain": [
       "(0.3028956700429869,\n",
       " [Params(use_article=True, use_abstract=True, k1=1.6, k2=3, b=0.95, idf_is_bm25=True, norm_idf=False)])"
      ]
     },
     "execution_count": 23,
     "metadata": {},
     "output_type": "execute_result"
    }
   ],
   "source": [
    "max_recall = max(el[1].recall for el in trial_results)\n",
    "max_recall, [el[0] for el in trial_results if el[1].recall == max_recall]"
   ]
  },
  {
   "cell_type": "markdown",
   "metadata": {},
   "source": [
    "С F-мерой ситуация аналогичная."
   ]
  },
  {
   "cell_type": "code",
   "execution_count": 24,
   "metadata": {},
   "outputs": [
    {
     "data": {
      "text/plain": [
       "(0.25203727774812434,\n",
       " [Params(use_article=True, use_abstract=True, k1=1.6, k2=3, b=0.95, idf_is_bm25=True, norm_idf=False)])"
      ]
     },
     "execution_count": 24,
     "metadata": {},
     "output_type": "execute_result"
    }
   ],
   "source": [
    "max_f_measure = max(el[1].f_measure for el in trial_results)\n",
    "max_f_measure, [el[0] for el in trial_results if el[1].f_measure == max_f_measure]"
   ]
  },
  {
   "cell_type": "markdown",
   "metadata": {},
   "source": [
    "Посмотрим на влияние от использования названия, текста и и того и другого. Для этого построим гистограмму MAP для экспериментов с разными параметрами. Видно, что только название работает похуже, а использование и названия итекста работает примерно так же как и только текста."
   ]
  },
  {
   "cell_type": "code",
   "execution_count": 27,
   "metadata": {},
   "outputs": [
    {
     "data": {
      "image/png": "[encoded data removed]",
      "text/plain": [
       "<matplotlib.figure.Figure at 0x7f6a9c7e3550>"
      ]
     },
     "metadata": {},
     "output_type": "display_data"
    }
   ],
   "source": [
    "import numpy as np\n",
    "bins = np.linspace(0.0, 0.19, 20)\n",
    "\n",
    "plt.hist([el[1].MAP for el in trial_results if el[0].use_article == True and el[0].use_abstract == False], bins, alpha=0.5, label='only title')\n",
    "plt.hist([el[1].MAP for el in trial_results if el[0].use_article == False and el[0].use_abstract == True], bins, alpha=0.5, label='only abstract')\n",
    "plt.hist([el[1].MAP for el in trial_results if el[0].use_article == True and el[0].use_abstract == True], bins, alpha=0.5, label='both')\n",
    "plt.legend(loc='upper right')\n",
    "plt.show()"
   ]
  },
  {
   "cell_type": "markdown",
   "metadata": {},
   "source": [
    "Также видно, что \"обычный\" bm25 работает лучше."
   ]
  },
  {
   "cell_type": "code",
   "execution_count": 28,
   "metadata": {},
   "outputs": [
    {
     "data": {
      "image/png": "[encoded data removed]",
      "text/plain": [
       "<matplotlib.figure.Figure at 0x7f6aed2ae9b0>"
      ]
     },
     "metadata": {},
     "output_type": "display_data"
    }
   ],
   "source": [
    "bins = np.linspace(0.0, 0.19, 20)\n",
    "\n",
    "plt.hist([el[1].MAP for el in trial_results if el[0].idf_is_bm25 == True], bins, alpha=0.5, label='standart bm25')\n",
    "plt.hist([el[1].MAP for el in trial_results if el[0].idf_is_bm25 == False], bins, alpha=0.5, label='alternative bm25')\n",
    "plt.legend(loc='upper right')\n",
    "plt.show()"
   ]
  },
  {
   "cell_type": "markdown",
   "metadata": {},
   "source": [
    "Нормирование на сумму idf работает плохо. Это логично, так как если встретилось мало слов, становится не важно, редкими слова были или нет, что плохо сказывается на качестве."
   ]
  },
  {
   "cell_type": "code",
   "execution_count": 29,
   "metadata": {},
   "outputs": [
    {
     "data": {
      "image/png": "[encoded data removed]",
      "text/plain": [
       "<matplotlib.figure.Figure at 0x7f6a9c6ed898>"
      ]
     },
     "metadata": {},
     "output_type": "display_data"
    }
   ],
   "source": [
    "bins = np.linspace(0.0, 0.19, 20)\n",
    "\n",
    "plt.hist([el[1].MAP for el in trial_results if el[0].norm_idf == True], bins, alpha=0.5, label='do norm idf')\n",
    "plt.hist([el[1].MAP for el in trial_results if el[0].norm_idf == False], bins, alpha=0.5, label=\"don't norm idf\")\n",
    "plt.legend(loc='upper right')\n",
    "plt.show()"
   ]
  }
 ],
 "metadata": {
  "kernelspec": {
   "display_name": "Python 3",
   "language": "python",
   "name": "python3"
  },
  "language_info": {
   "codemirror_mode": {
    "name": "ipython",
    "version": 3
   },
   "file_extension": ".py",
   "mimetype": "text/x-python",
   "name": "python",
   "nbconvert_exporter": "python",
   "pygments_lexer": "ipython3",
   "version": "3.5.2"
  }
 },
 "nbformat": 4,
 "nbformat_minor": 2
}
